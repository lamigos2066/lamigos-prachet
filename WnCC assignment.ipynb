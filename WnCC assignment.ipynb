{
 "cells": [
  {
   "cell_type": "markdown",
   "metadata": {},
   "source": [
    "# WnCC project assignment"
   ]
  },
  {
   "cell_type": "markdown",
   "metadata": {},
   "source": [
    "## Using necessary namespace"
   ]
  },
  {
   "cell_type": "code",
   "execution_count": 2,
   "metadata": {},
   "outputs": [],
   "source": [
    "import numpy as np"
   ]
  },
  {
   "cell_type": "markdown",
   "metadata": {},
   "source": [
    "### Loading the file timestat"
   ]
  },
  {
   "cell_type": "code",
   "execution_count": 3,
   "metadata": {},
   "outputs": [],
   "source": [
    "a, b = np.loadtxt('timestat.txt', str, unpack=True)"
   ]
  },
  {
   "cell_type": "markdown",
   "metadata": {},
   "source": [
    "### Funtion to change given time format into seconds"
   ]
  },
  {
   "cell_type": "code",
   "execution_count": 4,
   "metadata": {},
   "outputs": [],
   "source": [
    "def timer(x):\n",
    "    a = float(x.split('m')[0])*60\n",
    "    b = float((x.split('m')[1]).split('s')[0])\n",
    "    return a+b"
   ]
  },
  {
   "cell_type": "markdown",
   "metadata": {},
   "source": [
    "### Loading the values of Real, User and System into 3 lists.\n"
   ]
  },
  {
   "cell_type": "code",
   "execution_count": 7,
   "metadata": {},
   "outputs": [],
   "source": [
    "j = 0    \n",
    "mtr = [] # List for real values\n",
    "mtu = [] # List for User values\n",
    "mts = [] # List for System values\n",
    "while (j<(len(b)-1)):\n",
    "    if (j%3==0):\n",
    "        mtr.append(timer(b[j]))\n",
    "    elif (j%3==1):\n",
    "        mtu.append(timer(b[j]))\n",
    "    else:\n",
    "        mts.append(timer(b[j]))\n",
    "    j = j+1\n",
    "avgr, avgu, avgs = np.mean(mtr), np.mean(mtu), np.mean(mts) # Average of Real, User and System values respectively.\n",
    "stdr, stdu, stds = np.std(mtr), np.std(mtu), np.std(mts) # Standard Deviation of Real, User and System Values respectively.\n",
    "g = len(mtr)"
   ]
  },
  {
   "cell_type": "markdown",
   "metadata": {},
   "source": [
    "### Removing all the values that don't lie in the given intervals from the lists mtr, mtu, mts"
   ]
  },
  {
   "cell_type": "code",
   "execution_count": 10,
   "metadata": {},
   "outputs": [
    {
     "name": "stdout",
     "output_type": "stream",
     "text": [
      "Number of Runs  100 \n",
      " Average Time Stastics  \n",
      " 0.31921999999999995 0.27325000000000005 0.0029898989898989904 \n",
      " Standard deviation of Time statistics\n",
      " 0.20161674434431281 0.009733832749744566 0.002993241375029902 \n",
      " Number of runs within (average - standard deviation) to (average + standard deviation) \n",
      " 94 87 87\n"
     ]
    }
   ],
   "source": [
    "for i in mtr:\n",
    "    if (i<(avgr-stdr) or i>(avgr+stdr)):\n",
    "        mtr.remove(i)\n",
    "for i in mtu:\n",
    "    if (i<(avgu-stdu) or i>(avgu+stdu)):\n",
    "        mtu.remove(i)\n",
    "for i in mts:\n",
    "    if (i<(avgs-stds) or i>(avgs+stds)):\n",
    "        mts.remove(i)\n",
    "print(\"Number of Runs \",g, \"\\n\", \n",
    "      \"Average Time Stastics \", \"\\n\", avgr, avgu, avgs, \"\\n\", \n",
    "      \"Standard deviation of Time statistics\" \"\\n\", stdr, stdu, stds, \"\\n\",                               \n",
    "      \"Number of runs within (average - standard deviation) to (average + standard deviation)\", \"\\n\",\n",
    "      len(mtr), len(mtu), len(mts))"
   ]
  }
 ],
 "metadata": {
  "kernelspec": {
   "display_name": "Python 3",
   "language": "python",
   "name": "python3"
  },
  "language_info": {
   "codemirror_mode": {
    "name": "ipython",
    "version": 3
   },
   "file_extension": ".py",
   "mimetype": "text/x-python",
   "name": "python",
   "nbconvert_exporter": "python",
   "pygments_lexer": "ipython3",
   "version": "3.7.4"
  }
 },
 "nbformat": 4,
 "nbformat_minor": 2
}
